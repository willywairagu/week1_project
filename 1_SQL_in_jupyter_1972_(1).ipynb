{
  "cells": [
    {
      "cell_type": "markdown",
      "metadata": {
        "id": "WDDcLFefDXMO"
      },
      "source": [
        "# Using Notebook Environments to Interact with SQL\n",
        "© Explore Data Science Academy\n",
        "\n",
        "## Learning Objectives\n",
        "\n",
        "In this train, you will learn:\n",
        "- How to setup a SQL environment in jupyter notebooks, particularly:\n",
        "    - Serverless SQL - connecting to a database file (SQLite)\n",
        "    - Client-server SQL - connecting to a database in a SQL server (MySQL)\n",
        "- How to run SQL queries in Jupyter notebook cells.\n",
        "- How to list all available tables in a database.\n",
        "\n",
        "\n",
        "## Outline\n",
        "\n",
        "To do this, we'll go through the following:\n",
        "- Interfacing with SQL Using Magic Commands;\n",
        "- Connecting to a SQL server database;\n",
        "- Connecting to a serverless SQL database;\n",
        "- Listing the tables in a database; and,\n",
        "- Running SQL queries."
      ]
    },
    {
      "cell_type": "markdown",
      "metadata": {
        "id": "fghRlNPqDXMR"
      },
      "source": [
        "## SQL Architectures\n",
        "\n",
        "There are generally two common architectures for interacting with SQL databases:\n",
        "- Client-server SQL - database systems that require separate server processes to function. In such cases, the user sets up a connection (typically with user credentials) to the server to interact with a database within it. The server can be located locally on the user's computer or remotely (i.e. on a cloud computer). Examples of  RDBMS (Relational Database Management Systems) that work this way include Microsoft SQL server, MySQL, PostgreSQL, etc.\n",
        "\n",
        "\n",
        "- Serverless SQL - these systems allow the user to interact directly with the target SQL database, i.e., the SQL database is a file that gets loaded onto the application and can be read or written to using SQL queries. The specific flavour of serverless SQL we will use in this course is SQLite - a portable, serverless, and self-contained version of SQL. Instead of needing to connect to a SQL server for database access, SQLite loads a database from a single `.db` file, this file can be treated in a fashion similar to that of any other data file (e.g. a CSV) with the exception that we read and write to the file using SQL queries."
      ]
    },
    {
      "cell_type": "markdown",
      "metadata": {
        "id": "2irBuyHFDXMR"
      },
      "source": [
        "![SQL Architectures](https://raw.githubusercontent.com/Explore-AI/Pictures/master/sql-architectures.png)"
      ]
    },
    {
      "cell_type": "markdown",
      "metadata": {
        "id": "hJYhIDK9DXMS"
      },
      "source": [
        "In this train, we will explore both setups in the context of jupyter notebooks. Before we discuss these setups though, let's first discuss magic functions.\n",
        "\n",
        "## Interfacing with SQL Using Magic Commands\n",
        "\n",
        "[\"Magic\" commands](https://ipython.readthedocs.io/en/stable/interactive/magics.html) are special commands that are used to enhance the behaviour of IPython. In order to get our notebook to process SQL within each of our cells, we make use of IPython \"magic\" commands specifically for SQL. These are provided by the [ipython-sql](https://pypi.org/project/ipython-sql/) library.\n",
        "\n",
        "To enable these magic commands, we will give a once-off initialisation command: `%load_ext sql`"
      ]
    },
    {
      "cell_type": "markdown",
      "metadata": {
        "id": "DxI6gzO4DXMS"
      },
      "source": [
        "Next, let's discuss the dependencies for each type of SQL database setup."
      ]
    },
    {
      "cell_type": "markdown",
      "metadata": {
        "id": "-ayFqDJlDXMS"
      },
      "source": [
        "## 1. Connecting to a SQL server database\n",
        "\n",
        "To connect to a MySQL server database and use our Jupyter notebook as a client application, we first need to install some dependencies. This includes the following Python modules:\n",
        " - Running ***locally***: Once-off installations\n",
        "      - `pip install sqlalchemy`\n",
        "      - `pip install ipython-sql`\n",
        "      - `pip install pymysql`\n",
        "\n",
        " - Running on ***Google Colab***: For each notebook\n",
        "      - `pip install pymysql`\n",
        "\n",
        "Assuming, you have a local SQL server installed or have access to credentials to a remote SQL server (e.g. AWS RDS), you can connect to it using a connection string of the following form:"
      ]
    },
    {
      "cell_type": "markdown",
      "metadata": {
        "id": "CJc0tPwBDXMT"
      },
      "source": [
        "`%sql mysql+pymysql://{USER}:{PASSWORD}@{HOST}:{PORT}/{DATABASE}`"
      ]
    },
    {
      "cell_type": "markdown",
      "metadata": {
        "id": "JAwYvM9WDXMT"
      },
      "source": [
        "In practice, you will need to replace the elements of the database url in the connection string with your given credentials, i.e.:\n",
        "```\n",
        "USER - username\n",
        "PASSWORD - password\n",
        "HOST - ip address or hostname\n",
        "PORT - server port number\n",
        "DATABASE - name of database\n",
        "```\n",
        "\n",
        "We will explore how to connect to a SQL server from a Jupyter notebook in detail in later trains."
      ]
    },
    {
      "cell_type": "markdown",
      "metadata": {
        "id": "qPfF2Sn50r_H"
      },
      "source": [
        "## 2. Connecting to a serverless SQL database\n",
        "\n",
        "We can connect to a SQLite database as follows:\n",
        "\n",
        "1. We need to install some dependencies. This includes the following Python modules:\n",
        "\n",
        " - Running ***locally***: Once-off installations\n",
        "      - `pip install sqlalchemy`\n",
        "      - `pip install ipython-sql`\n",
        "      - `pip install pymysql`\n",
        "\n",
        " - Running on ***Google Colab***:\n",
        "      - no dependencies required\n",
        "      \n",
        "\n",
        "2. Next, we need a SQLite database file (i.e. with a `.db` file extension) to connect to. For this purpose, the `chinook.db` file has been provided, download it from Athena and place it in the same folder as this notebook or some other known location.\n",
        "\n",
        "After installing the dependencies and downloading the database file, we can now connect to our DB."
      ]
    },
    {
      "cell_type": "markdown",
      "metadata": {
        "id": "OG8JGgwQ0Mu6"
      },
      "source": [
        "To do this, we simply call an inline magic command `%sql` followed by a [SQLAlchemy-formatted](https://docs.sqlalchemy.org/en/13/core/engines.html#sqlite) DB connection string, i.e.:\n",
        "\n",
        "---\n",
        "`%sql sqlite:////path_to_database_file.db`\n",
        "\n",
        "    Valid SQLite URL forms are:\n",
        "     sqlite:///:memory: (or, sqlite://)\n",
        "     sqlite:///relative/path/to/file.db\n",
        "     sqlite:////absolute/path/to/file.db\n",
        "\n",
        "Let's put this into practice by connecting to and querying a SQLite database."
      ]
    },
    {
      "cell_type": "markdown",
      "metadata": {
        "id": "8P4dgwmkDXMU"
      },
      "source": [
        "## Listing Database Tables\n",
        "Before we start we need to load our SQL magic commands (we only need do this once per notebook):"
      ]
    },
    {
      "cell_type": "code",
      "execution_count": null,
      "metadata": {
        "id": "gsrbFIuTDXMU"
      },
      "outputs": [],
      "source": [
        "%load_ext sql"
      ]
    },
    {
      "cell_type": "markdown",
      "metadata": {
        "id": "tFEl8ZBbDXMV"
      },
      "source": [
        "If the `chinook.db` file is saved in the same folder as this notebook, then it can be loaded into the notebook as follows:"
      ]
    },
    {
      "cell_type": "code",
      "execution_count": null,
      "metadata": {
        "id": "5Ydon1OYDXMV"
      },
      "outputs": [],
      "source": [
        "# Load SQLite database\n",
        "%sql sqlite:///chinook.db"
      ]
    },
    {
      "cell_type": "markdown",
      "metadata": {
        "id": "taMud4sk908N"
      },
      "source": [
        "If your connection is successful, then you should be able to interact with the DB using standard SQL syntax (provided that you prepend every SQL jupyter cell with `%%sql`)."
      ]
    },
    {
      "cell_type": "markdown",
      "metadata": {
        "id": "EFJj7Z4yDXMV"
      },
      "source": [
        "Before we can run SQL queries, we need to understand what tables exist in the database. This can be achieved by using the following SQL query.\n",
        "\n",
        "*Note: This query will make more sense as you learn more about SQL queries throughout the course. Your takeaway here is that we had to prepend a Jupyter notebook cell with `%%sql` in order to run a SQL query.*"
      ]
    },
    {
      "cell_type": "code",
      "execution_count": null,
      "metadata": {
        "id": "zbfBFV14DXMV",
        "outputId": "17464ca6-34c0-4924-bd14-9fc8ba7f025e"
      },
      "outputs": [
        {
          "name": "stdout",
          "output_type": "stream",
          "text": [
            " * sqlite:///chinook.db\n",
            "Done.\n"
          ]
        },
        {
          "data": {
            "text/html": [
              "<table>\n",
              "    <tr>\n",
              "        <th>name</th>\n",
              "    </tr>\n",
              "    <tr>\n",
              "        <td>albums</td>\n",
              "    </tr>\n",
              "    <tr>\n",
              "        <td>artists</td>\n",
              "    </tr>\n",
              "    <tr>\n",
              "        <td>customers</td>\n",
              "    </tr>\n",
              "    <tr>\n",
              "        <td>employees</td>\n",
              "    </tr>\n",
              "    <tr>\n",
              "        <td>genres</td>\n",
              "    </tr>\n",
              "    <tr>\n",
              "        <td>invoice_items</td>\n",
              "    </tr>\n",
              "    <tr>\n",
              "        <td>invoices</td>\n",
              "    </tr>\n",
              "    <tr>\n",
              "        <td>media_types</td>\n",
              "    </tr>\n",
              "    <tr>\n",
              "        <td>playlist_track</td>\n",
              "    </tr>\n",
              "    <tr>\n",
              "        <td>playlists</td>\n",
              "    </tr>\n",
              "    <tr>\n",
              "        <td>tracks</td>\n",
              "    </tr>\n",
              "</table>"
            ],
            "text/plain": [
              "[('albums',),\n",
              " ('artists',),\n",
              " ('customers',),\n",
              " ('employees',),\n",
              " ('genres',),\n",
              " ('invoice_items',),\n",
              " ('invoices',),\n",
              " ('media_types',),\n",
              " ('playlist_track',),\n",
              " ('playlists',),\n",
              " ('tracks',)]"
            ]
          },
          "execution_count": 3,
          "metadata": {},
          "output_type": "execute_result"
        }
      ],
      "source": [
        "%%sql\n",
        "SELECT name FROM sqlite_master WHERE type IN ('table','view') AND name NOT LIKE 'sqlite_%' ORDER BY 1"
      ]
    },
    {
      "cell_type": "markdown",
      "metadata": {
        "id": "Cwpjnyx_DXMW"
      },
      "source": [
        "Now that we know what tables exist in our database, i.e.:\n",
        "\n",
        "- albums\n",
        "- artists\n",
        "- customers\n",
        "- employees\n",
        "- genres\n",
        "- invoice_items\n",
        "- invoices\n",
        "- media_types\n",
        "- playlist_track\n",
        "- playlists\n",
        "- tracks\n",
        "\n",
        "we can query them to see what information they contain.\n",
        "\n",
        "## Running SQL Queries in Jupyter Notebook Cells\n",
        "\n",
        "We can query what information exists in a given database table as follows:\n",
        "\n",
        "*Again, we will explore SQL queries in greater detail in later trains. So don't stress about the syntax or content of the query below, just know that we're executing it within a Jupyter Notebook.*"
      ]
    },
    {
      "cell_type": "code",
      "execution_count": null,
      "metadata": {
        "colab": {
          "base_uri": "https://localhost:8080/",
          "height": 158
        },
        "id": "eYrkJIrrJur-",
        "outputId": "878857a7-4c31-479d-8f46-ea1c02219c1a"
      },
      "outputs": [
        {
          "name": "stdout",
          "output_type": "stream",
          "text": [
            " * sqlite:///chinook.db\n",
            "Done.\n"
          ]
        },
        {
          "data": {
            "text/html": [
              "<table>\n",
              "    <tr>\n",
              "        <th>CustomerId</th>\n",
              "        <th>FirstName</th>\n",
              "        <th>LastName</th>\n",
              "        <th>Company</th>\n",
              "        <th>Address</th>\n",
              "        <th>City</th>\n",
              "        <th>State</th>\n",
              "        <th>Country</th>\n",
              "        <th>PostalCode</th>\n",
              "        <th>Phone</th>\n",
              "        <th>Fax</th>\n",
              "        <th>Email</th>\n",
              "        <th>SupportRepId</th>\n",
              "    </tr>\n",
              "    <tr>\n",
              "        <td>1</td>\n",
              "        <td>Luís</td>\n",
              "        <td>Gonçalves</td>\n",
              "        <td>Embraer - Empresa Brasileira de Aeronáutica S.A.</td>\n",
              "        <td>Av. Brigadeiro Faria Lima, 2170</td>\n",
              "        <td>São José dos Campos</td>\n",
              "        <td>SP</td>\n",
              "        <td>Brazil</td>\n",
              "        <td>12227-000</td>\n",
              "        <td>+55 (12) 3923-5555</td>\n",
              "        <td>+55 (12) 3923-5566</td>\n",
              "        <td>luisg@embraer.com.br</td>\n",
              "        <td>3</td>\n",
              "    </tr>\n",
              "    <tr>\n",
              "        <td>2</td>\n",
              "        <td>Leonie</td>\n",
              "        <td>Köhler</td>\n",
              "        <td>None</td>\n",
              "        <td>Theodor-Heuss-Straße 34</td>\n",
              "        <td>Stuttgart</td>\n",
              "        <td>None</td>\n",
              "        <td>Germany</td>\n",
              "        <td>70174</td>\n",
              "        <td>+49 0711 2842222</td>\n",
              "        <td>None</td>\n",
              "        <td>leonekohler@surfeu.de</td>\n",
              "        <td>5</td>\n",
              "    </tr>\n",
              "    <tr>\n",
              "        <td>3</td>\n",
              "        <td>François</td>\n",
              "        <td>Tremblay</td>\n",
              "        <td>None</td>\n",
              "        <td>1498 rue Bélanger</td>\n",
              "        <td>Montréal</td>\n",
              "        <td>QC</td>\n",
              "        <td>Canada</td>\n",
              "        <td>H2G 1A7</td>\n",
              "        <td>+1 (514) 721-4711</td>\n",
              "        <td>None</td>\n",
              "        <td>ftremblay@gmail.com</td>\n",
              "        <td>3</td>\n",
              "    </tr>\n",
              "    <tr>\n",
              "        <td>4</td>\n",
              "        <td>Bjørn</td>\n",
              "        <td>Hansen</td>\n",
              "        <td>None</td>\n",
              "        <td>Ullevålsveien 14</td>\n",
              "        <td>Oslo</td>\n",
              "        <td>None</td>\n",
              "        <td>Norway</td>\n",
              "        <td>0171</td>\n",
              "        <td>+47 22 44 22 22</td>\n",
              "        <td>None</td>\n",
              "        <td>bjorn.hansen@yahoo.no</td>\n",
              "        <td>4</td>\n",
              "    </tr>\n",
              "    <tr>\n",
              "        <td>5</td>\n",
              "        <td>František</td>\n",
              "        <td>Wichterlová</td>\n",
              "        <td>JetBrains s.r.o.</td>\n",
              "        <td>Klanova 9/506</td>\n",
              "        <td>Prague</td>\n",
              "        <td>None</td>\n",
              "        <td>Czech Republic</td>\n",
              "        <td>14700</td>\n",
              "        <td>+420 2 4172 5555</td>\n",
              "        <td>+420 2 4172 5555</td>\n",
              "        <td>frantisekw@jetbrains.com</td>\n",
              "        <td>4</td>\n",
              "    </tr>\n",
              "</table>"
            ],
            "text/plain": [
              "[(1, 'Luís', 'Gonçalves', 'Embraer - Empresa Brasileira de Aeronáutica S.A.', 'Av. Brigadeiro Faria Lima, 2170', 'São José dos Campos', 'SP', 'Brazil', '12227-000', '+55 (12) 3923-5555', '+55 (12) 3923-5566', 'luisg@embraer.com.br', 3),\n",
              " (2, 'Leonie', 'Köhler', None, 'Theodor-Heuss-Straße 34', 'Stuttgart', None, 'Germany', '70174', '+49 0711 2842222', None, 'leonekohler@surfeu.de', 5),\n",
              " (3, 'François', 'Tremblay', None, '1498 rue Bélanger', 'Montréal', 'QC', 'Canada', 'H2G 1A7', '+1 (514) 721-4711', None, 'ftremblay@gmail.com', 3),\n",
              " (4, 'Bjørn', 'Hansen', None, 'Ullevålsveien 14', 'Oslo', None, 'Norway', '0171', '+47 22 44 22 22', None, 'bjorn.hansen@yahoo.no', 4),\n",
              " (5, 'František', 'Wichterlová', 'JetBrains s.r.o.', 'Klanova 9/506', 'Prague', None, 'Czech Republic', '14700', '+420 2 4172 5555', '+420 2 4172 5555', 'frantisekw@jetbrains.com', 4)]"
            ]
          },
          "execution_count": 4,
          "metadata": {},
          "output_type": "execute_result"
        }
      ],
      "source": [
        "%%sql\n",
        "SELECT * FROM customers\n",
        "LIMIT 5"
      ]
    },
    {
      "cell_type": "markdown",
      "metadata": {
        "id": "616z2cWMDXMW"
      },
      "source": [
        "As you can see, this query outputs all the columns and rows of data that exist in the customers table."
      ]
    },
    {
      "cell_type": "markdown",
      "metadata": {
        "id": "a1H5Y0JK_JjF"
      },
      "source": [
        "These \"SQL cells\" (i.e. cells with `%%sql`) come with all the standard benefits of normal notebook cells, including:\n",
        "\n",
        " - **Statefullness**: Connection context is maintained between cells, just like standard notebook cells.  \n",
        " - **Pretty-printed results:** When runnning in Jupyter, the results of SQL queries are printed in neat tabular results (similar to Pandas formatting).\n",
        " - **Hybrid Python+SQL statements:** Python and SQL code can be used interchangeably within a cell. For more info see [here](https://pypi.org/project/ipython-sql/)"
      ]
    },
    {
      "cell_type": "markdown",
      "metadata": {
        "id": "_Wyss5M3DXMW"
      },
      "source": [
        "\n",
        "## Conclusion\n",
        "\n",
        "In this train, we covered how to setup a SQL database in a jupyter notebook environment and how to run basic queries to show the information stored in the tables of the given database."
      ]
    },
    {
      "cell_type": "markdown",
      "metadata": {
        "id": "jssc-z3XDXMW"
      },
      "source": [
        "## Appendix\n",
        "\n",
        "The following links may be useful for further learning around the content we've covered:\n",
        "\n",
        " - [SQLite vs. Client-server databases - Trade-off comparison](https://www.sqlite.org/whentouse.html)\n",
        " - [IPython-sql reference guide](https://pypi.org/project/ipython-sql/)"
      ]
    }
  ],
  "metadata": {
    "colab": {
      "provenance": []
    },
    "kernelspec": {
      "display_name": "Python 3",
      "language": "python",
      "name": "python3"
    },
    "language_info": {
      "codemirror_mode": {
        "name": "ipython",
        "version": 3
      },
      "file_extension": ".py",
      "mimetype": "text/x-python",
      "name": "python",
      "nbconvert_exporter": "python",
      "pygments_lexer": "ipython3",
      "version": "3.7.4"
    }
  },
  "nbformat": 4,
  "nbformat_minor": 0
}